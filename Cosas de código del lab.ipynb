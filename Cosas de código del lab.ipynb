{
 "cells": [
  {
   "cell_type": "code",
   "execution_count": 1,
   "metadata": {},
   "outputs": [],
   "source": [
    "#Librerias\n",
    "import pandas as pd\n",
    "import numpy as np\n",
    "import matplotlib.pyplot as plt\n",
    "import sympy as sym\n",
    "from scipy.optimize import curve_fit\n",
    "from scipy.signal import find_peaks,peak_widths\n",
    "from scipy.special import wofz"
   ]
  },
  {
   "cell_type": "code",
   "execution_count": 2,
   "metadata": {},
   "outputs": [],
   "source": [
    "#Obtención de los datos\n",
    "def Data(l:str):\n",
    "    direccion = l\n",
    "    data = pd.read_csv(direccion, delimiter='\\t')\n",
    "    return data\n",
    "\n",
    "#DataA1 = Data(l)\n",
    "\n",
    "#x = DataA1['Mag']\n",
    "#y = DataA1['Ang']"
   ]
  },
  {
   "cell_type": "code",
   "execution_count": 2,
   "metadata": {},
   "outputs": [],
   "source": [
    "#Para regresiones lineales o polinómicas de cualquier orden\n",
    "#Orden del polinomio\n",
    "n = 1\n",
    "#parámetros constnates de la regresión ax^2 + bx + c (a,b,c)\n",
    "#x datos del eje x\n",
    "#y datos del eje y\n",
    "#n ya esta definido que es el orden del polinomio\n",
    "param = np.polyfit(x, y, n)\n",
    "#x ficticio para graficar la regresion\n",
    "_x = np.linspace(min(x),max(x),2)\n",
    "#Para obtener la regresion param[0]*-x*_x + param[1]*_x + param[2] (grado 2)\n",
    "ym = param[0]*_x + param[1]\n"
   ]
  },
  {
   "cell_type": "code",
   "execution_count": 3,
   "metadata": {},
   "outputs": [],
   "source": [
    "Obtener medidas de incertidumbre\n",
    "\n",
    "#El r^2 de excel\n",
    "def GetR2(x,y):\n",
    "    matrix = np.corrcoef(x, y)\n",
    "    R2 = (matrix[0,1])**2\n",
    "    return R2\n",
    "\n",
    "R2 = GetR2(x,y)\n",
    "\n",
    "#Desviacion estandar\n",
    "std = np.std(x,axis=0)\n",
    "#Varianza\n",
    "var = np.var(x,axis=0)\n",
    "\n",
    "#Residuales \n",
    "#y es el de los datos\n",
    "#ym es la de la regresion\n",
    "def Residuals(y,ym):\n",
    "    e = []\n",
    "    for i in range(0,len(y)):\n",
    "        e.append(y[i]-ym[i])\n",
    "    return e"
   ]
  },
  {
   "cell_type": "code",
   "execution_count": null,
   "metadata": {},
   "outputs": [],
   "source": [
    "#Graficas\n",
    "#grafica los puntos de los datos con el error; xerror o yerror será np.sqrt(std)\n",
    "#Para poner convencion se pone entre los parentesis label='Angulo'\n",
    "plt.errorbar(x, y,xerr,capsize=1.5,color='b',fmt='.')\n",
    "#grafica de la regresion \n",
    "plt.plot(_x,ym,color='b')\n",
    "#cosas de imagen\n",
    "plt.title('Gráfica')\n",
    "plt.xlabel('C')\n",
    "plt.ylabel('V')\n",
    "#Codigo para escribir las ecuaciones de la regresion dentro de la grafica. lo unico que hay que cambiar es la posición \n",
    "plt.text(6, 7.5, 'y={}x + {}'.format(round(param[1],2),round(param[0],2)),color='b')\n",
    "plt.text(6,7.1,'R^2= {}'.format(round(R2,2)),color='b')\n",
    "plt.legend()\n",
    "plt.grid()\n",
    "plt.show()"
   ]
  },
  {
   "cell_type": "code",
   "execution_count": null,
   "metadata": {},
   "outputs": [],
   "source": [
    "# Grafica de dos o mas plots\n",
    "fig = plt.figure(figsize = (10, 5))\n",
    "#titulo general\n",
    "fig.suptitle('Espectro de los rayos X característicos del cobre')\n",
    "#plots separados (numero de filas, numero de columnas, posicion de fila columna)\n",
    "ax1 = fig.add_subplot(121)\n",
    "ax2 = fig.add_subplot(122)\n",
    "\n",
    "#graficar cada regresion lineal\n",
    "ax1.plot(_x1,ym1)\n",
    "ax2.plot(_x2,ym2)\n",
    "\n",
    "#graficar barras de error\n",
    "ax1.set_errorbar(x1, y1,xerr,capsize=1.5,color='b',fmt='.')\n",
    "ax2.set_errorbar(x2, y2,xerr,capsize=1.5,color='b',fmt='.')\n",
    "\n",
    "ax1.grid()\n",
    "ax2.grid()\n",
    "\n",
    "ax1.legend()\n",
    "ax2.legend()\n",
    "\n",
    "plt.show()\n",
    "# plt.savefig('Actividad 1.pdf')"
   ]
  },
  {
   "cell_type": "code",
   "execution_count": null,
   "metadata": {},
   "outputs": [],
   "source": [
    "#Regresiones de curvas o cosas extrañas\n",
    "#Primero definir la función del ajuste este ejemplo es de una lorentziana\n",
    "def Lorentzian(x,h,x0,W):\n",
    "    return h*W**2/((x-x0)**2+W**2)\n",
    "\n",
    "#Ajuste de curva o funciones raras popt son los parametros y pcov es la matriz de covarianza\n",
    "popt, pcov = curve_fit(Lorentzian,xdata=x, ydata=y)\n",
    "#los parametros como en la lineal salen en una lista y dependen de la funcion. En este ejemplo de la lorentziana, va a salir h,xo y W\n",
    "ha = popt[0]\n",
    "#Para graficar con x ficticio\n",
    "x1_ = np.linspace(min(x),max(x),500)\n",
    "#Para obtener el error de las barras\n",
    "error = np.sqrt(np.diag(pcov))\n",
    "#Para obtener la regresion con los parametros\n",
    "ym = Lorentziana(_x,popt[0],popt[1],popt[2])"
   ]
  }
 ],
 "metadata": {
  "kernelspec": {
   "display_name": "Python 3 (ipykernel)",
   "language": "python",
   "name": "python3"
  },
  "language_info": {
   "codemirror_mode": {
    "name": "ipython",
    "version": 3
   },
   "file_extension": ".py",
   "mimetype": "text/x-python",
   "name": "python",
   "nbconvert_exporter": "python",
   "pygments_lexer": "ipython3",
   "version": "3.11.7"
  }
 },
 "nbformat": 4,
 "nbformat_minor": 4
}
