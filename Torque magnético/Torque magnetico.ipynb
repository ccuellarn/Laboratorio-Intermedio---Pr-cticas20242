{
 "cells": [
  {
   "cell_type": "code",
   "execution_count": null,
   "metadata": {},
   "outputs": [],
   "source": [
    "#Librerias\n",
    "import pandas as pd\n",
    "import numpy as np\n",
    "import matplotlib.pyplot as plt\n",
    "import sympy as sym\n",
    "from scipy.optimize import curve_fit\n",
    "from scipy.signal import find_peaks,peak_widths\n",
    "from scipy.special import wofz"
   ]
  },
  {
   "cell_type": "code",
   "execution_count": null,
   "metadata": {},
   "outputs": [],
   "source": [
    "#Obtención de los datos\n",
    "def Data(l:str):\n",
    "    direccion = l\n",
    "    data = pd.read_csv(direccion, delimiter='\\t')\n",
    "    return data"
   ]
  },
  {
   "cell_type": "code",
   "execution_count": null,
   "metadata": {},
   "outputs": [],
   "source": [
    "#Para regresiones lineales o polinómicas de cualquier orden\n",
    "# n = 1\n",
    "# param = np.polyfit(x, y, n)\n",
    "# _x = np.linspace(0,10,2)\n",
    "# param = GetFit(x,y)\n",
    "# ym = GetModel(_x,param_az)\n",
    "\n",
    "#Obtener medidas de incertidumbre\n",
    "\n",
    "# def GetR2(x,y):\n",
    "#     matrix = np.corrcoef(x, y)\n",
    "#     R2 = (matrix[0,1])**2\n",
    "#     return R2\n",
    "\n",
    "#Desviacion estandar\n",
    "#std = np.std(x,axis=0)\n",
    "#Varianza\n",
    "#var = np.var(x,axis=0)\n",
    "\n",
    "#Residuales \n",
    "# def Residuals(y,ym_az):\n",
    "#     e = []\n",
    "#     for i in range(0,len(y)):\n",
    "#         e.append(y[i]-ym[i])\n",
    "#     return e\n",
    "\n",
    "#Graficas\n",
    "# plt.errorbar(x, y,xerr,capsize=1.5,color='b',fmt='.')\n",
    "# plt.plot(x,y,color='b')\n",
    "# plt.title('Gráfica')\n",
    "# plt.xlabel('C')\n",
    "# plt.ylabel('V')\n",
    "# plt.text(6, 7.5, 'y={}x + {}'.format(round(param[1],2),round(param[0],2)),color='b')\n",
    "# plt.text(6,7.1,'R^2= {}'.format(round(GetR2(x,y),2)),color='b')\n",
    "# plt.legend()\n",
    "# plt.show()\n",
    "\n",
    "#Grafica de dos o mas plots\n",
    "# fig = plt.figure(figsize = (10, 5))\n",
    "# ax1 = fig.add_subplot(121)\n",
    "# ax2 = fig.add_subplot(122)\n",
    "\n",
    "\n",
    "# ax1.plot(xI,yI)\n",
    "# ax2.plot(xI,yV)\n",
    "\n",
    "# ax1.grid()\n",
    "# ax2.grid()\n",
    "\n",
    "# ax1.legend()\n",
    "# plt.show()"
   ]
  }
 ],
 "metadata": {
  "language_info": {
   "name": "python"
  }
 },
 "nbformat": 4,
 "nbformat_minor": 2
}
