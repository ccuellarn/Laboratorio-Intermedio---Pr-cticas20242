{
 "cells": [
  {
   "cell_type": "code",
   "execution_count": 1,
   "id": "b9b1e00d-4e0e-4d48-b98a-afe064bd268b",
   "metadata": {},
   "outputs": [],
   "source": [
    "#Librerias\n",
    "import pandas as pd\n",
    "import numpy as np\n",
    "import matplotlib.pyplot as plt\n",
    "import sympy as sym\n",
    "import scipy as sci\n",
    "from lmfit.models import LorentzianModel\n",
    "from lmfit.models import VoigtModel"
   ]
  },
  {
   "cell_type": "code",
   "execution_count": 6,
   "id": "afe675a4-6d40-4477-8e7f-24b3a6057233",
   "metadata": {},
   "outputs": [],
   "source": [
    "def Data(l:str):\n",
    "    direccion = l\n",
    "    data = pd.read_csv(direccion, delimiter='\\t')\n",
    "    return data\n",
    "\n",
    "#Actividad 1\n",
    "Data1A1 = Data(r'C:\\Users\\clauw\\Documents\\Programming\\Laboratorio-Intermedio---Pr-cticas20242\\Rayos X\\Datos de actividad 1 3 a 55 grados')\n",
    "\n",
    "#Actividad 2 calibración\n",
    "Data1A2 = Data(r\"C:\\Users\\clauw\\Documents\\Programming\\Laboratorio-Intermedio---Pr-cticas20242\\Rayos X\\Datos 2 cristal LiF sin material 6 a 16 grados\")\n",
    "\n",
    "#Actividad 2 Al\n",
    "Data2A2 = Data(r\"C:\\Users\\clauw\\Documents\\Programming\\Laboratorio-Intermedio---Pr-cticas20242\\Rayos X\\datos 2 cristal LiF Al002 6 a 16 grados\")\n",
    "Data3A2 = Data(r\"C:\\Users\\clauw\\Documents\\Programming\\Laboratorio-Intermedio---Pr-cticas20242\\Rayos X\\Datos 2 cristal LiF Al004 6 a 16 grados\")\n",
    "Data4A2 = Data(r\"C:\\Users\\clauw\\Documents\\Programming\\Laboratorio-Intermedio---Pr-cticas20242\\Rayos X\\datos 2 cristal LiF Al006 6 a 16 grados\")\n",
    "Data5A2 = Data(r\"C:\\Users\\clauw\\Documents\\Programming\\Laboratorio-Intermedio---Pr-cticas20242\\Rayos X\\datos 2 cristal LiF Al008 6 a 16 grados\")\n",
    "\n",
    "#Actividad 2 Zn\n",
    "Data6A2 = Data(r\"C:\\Users\\clauw\\Documents\\Programming\\Laboratorio-Intermedio---Pr-cticas20242\\Rayos X\\datos 2 cristal Zn 0025 6 a 16 grados\")\n",
    "Data7A2 = Data(r\"C:\\Users\\clauw\\Documents\\Programming\\Laboratorio-Intermedio---Pr-cticas20242\\Rayos X\\datos 2 cristal Zn 005 6 a 16 grados\")\n",
    "Data8A2 = Data(r\"C:\\Users\\clauw\\Documents\\Programming\\Laboratorio-Intermedio---Pr-cticas20242\\Rayos X\\datos 2 cristal Zn 0075 6 a 16 grados\")\n",
    "Data9A2 = Data(r\"C:\\Users\\clauw\\Documents\\Programming\\Laboratorio-Intermedio---Pr-cticas20242\\Rayos X\\datos 2 cristal Zn 001 6 a 16 grados\")\n"
   ]
  },
  {
   "cell_type": "code",
   "execution_count": null,
   "id": "450f9690-2884-40b4-a357-34439c72af97",
   "metadata": {},
   "outputs": [],
   "source": [
    "#Para regresiones lineales o polinómicas de cualquier orden\n",
    "# def GetFit(x,y,n=1):\n",
    "    \n",
    "#     l = x.shape[0]\n",
    "#     b = y\n",
    "    \n",
    "#     A = np.ones((l,n+1))\n",
    "    \n",
    "#     for i in range(1,n+1):\n",
    "#         A[:,i] = x**i\n",
    "        \n",
    "#     AT = np.dot(A.T,A)\n",
    "#     bT = np.dot(A.T,b)\n",
    "    \n",
    "#     xsol = np.linalg.solve(AT,bT)\n",
    "    \n",
    "#     return xsol\n",
    "\n",
    "# def GetModel(x,p):\n",
    "#     y = 0\n",
    "#     for n in range(len(p)):\n",
    "#         y += p[n]*x**n\n",
    "        \n",
    "#     return y\n",
    "\n",
    "# _x = np.linspace(0,10,2)\n",
    "\n",
    "# param = GetFit(x,y)\n",
    "# ym = GetModel(_x,param_az)"
   ]
  },
  {
   "cell_type": "code",
   "execution_count": null,
   "id": "301d6ed7-7451-4ff2-b8b2-3c841d53689c",
   "metadata": {},
   "outputs": [],
   "source": [
    "#Obtener medidas de incertidumbre\n",
    "\n",
    "# def GetR2(x,y):\n",
    "#     matrix = np.corrcoef(x, y)\n",
    "#     R2 = (matrix[0,1])**2\n",
    "#     return R2\n",
    "\n",
    "#Desviacion estandar\n",
    "#std = np.std(x,axis=0)\n",
    "#Varianza\n",
    "#var = np.var(x,axis=0)\n",
    "\n",
    "#Residuales \n",
    "# def Residuals(y,ym_az):\n",
    "#     e = []\n",
    "#     for i in range(0,len(y)):\n",
    "#         e.append(y[i]-ym[i])\n",
    "#     return e"
   ]
  },
  {
   "cell_type": "code",
   "execution_count": null,
   "id": "ea548967-8060-4512-8740-4b26e414bb2b",
   "metadata": {},
   "outputs": [],
   "source": [
    "#Regresion lorentziana\n",
    "# model = LorentzianModel()\n",
    "# params = model.guess(y, x=freq)\n",
    "# result = model.fit(y, params, x=freq)\n",
    "# result.plot_fit()\n",
    "# plt.show()"
   ]
  },
  {
   "cell_type": "code",
   "execution_count": null,
   "id": "fb264983-4206-4e13-9fbc-f22624c1011b",
   "metadata": {},
   "outputs": [],
   "source": [
    "#Perfil de Voight\n",
    "# alpha = std*np.sqrt(2*np.ln(2))\n",
    "# mod = VoigtModel()\n",
    "# pars = mod.guess(y, x=x)\n",
    "# out = mod.fit(y, pars, x=x)\n",
    "# out.plot()"
   ]
  },
  {
   "cell_type": "code",
   "execution_count": null,
   "id": "604ef74c-8273-4a09-9ff8-d28ffe431082",
   "metadata": {},
   "outputs": [],
   "source": [
    "#Graficas\n",
    "# plt.errorbar(x, y,xerr,capsize=1.5,color='b',fmt='.')\n",
    "# plt.plot(x,y,color='b')\n",
    "# plt.title('Gráfica')\n",
    "# plt.xlabel('C')\n",
    "# plt.ylabel('V')\n",
    "# plt.text(6, 7.5, 'y={}x + {}'.format(round(param[1],2),round(param[0],2)),color='b')\n",
    "# plt.text(6,7.1,'R^2= {}'.format(round(GetR2(x,y),2)),color='b')\n",
    "# plt.legend()\n",
    "# plt.show()"
   ]
  }
 ],
 "metadata": {
  "kernelspec": {
   "display_name": "Python 3 (ipykernel)",
   "language": "python",
   "name": "python3"
  },
  "language_info": {
   "codemirror_mode": {
    "name": "ipython",
    "version": 3
   },
   "file_extension": ".py",
   "mimetype": "text/x-python",
   "name": "python",
   "nbconvert_exporter": "python",
   "pygments_lexer": "ipython3",
   "version": "3.11.7"
  }
 },
 "nbformat": 4,
 "nbformat_minor": 5
}
