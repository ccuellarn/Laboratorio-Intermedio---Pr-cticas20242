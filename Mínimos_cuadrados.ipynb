{
 "cells": [
  {
   "cell_type": "code",
   "execution_count": 23,
   "id": "53e39a22",
   "metadata": {},
   "outputs": [],
   "source": [
    "import numpy as np\n",
    "import matplotlib.pyplot as plt"
   ]
  },
  {
   "cell_type": "code",
   "execution_count": 72,
   "id": "e38cd28f",
   "metadata": {},
   "outputs": [
    {
     "data": {
      "text/plain": [
       "[0.42, 0.62, 0.81, 1.02, 1.21, 1.44, 1.61]"
      ]
     },
     "execution_count": 72,
     "metadata": {},
     "output_type": "execute_result"
    }
   ],
   "source": [
    "lenght = [0.1, 0.15, 0.2, 0.25, 0.30, 0.35, 0.40] # Incertidumbre de 0.01 m\n",
    "period = [0.65, 0.79, 0.90, 1.01, 1.10, 1.20, 1.27]\n",
    "period2 = [round(0.65**2, 2), round(0.79**2, 2), round(0.90**2, 2), round(1.01**2, 2) , round(1.10**2, 2) , round(1.20**2, 2), round(1.27**2, 2)] # Incertidumbre de 0.05 s\n",
    "period2"
   ]
  },
  {
   "cell_type": "code",
   "execution_count": 100,
   "id": "b991e381",
   "metadata": {},
   "outputs": [
    {
     "data": {
      "text/plain": [
       "[236.69, 160.23, 123.46, 98.03, 82.64, 69.44, 62.0]"
      ]
     },
     "execution_count": 100,
     "metadata": {},
     "output_type": "execute_result"
    }
   ],
   "source": [
    "weight = []\n",
    "y_error = []\n",
    "\n",
    "for i in range(0, len(period)):\n",
    "    weight.append(round(1/(np.abs(2*period[i]*0.05)**2),2))\n",
    "    y_error.append(np.abs(2*period[i]*0.05))\n",
    "weight"
   ]
  },
  {
   "cell_type": "code",
   "execution_count": 87,
   "id": "3b287b72",
   "metadata": {},
   "outputs": [],
   "source": [
    "sumx = 0\n",
    "sumy = 0\n",
    "sumxy = 0\n",
    "sumxx = 0\n",
    "sumw = 0\n",
    "\n",
    "for i in range(0, len(lenght)):\n",
    "    sumw += weight[i]\n",
    "    sumx += weight[i]*lenght[i]\n",
    "    sumy += weight[i]*period2[i]\n",
    "    sumxy += weight[i]*lenght[i]*period2[i]\n",
    "    sumxx += weight[i]*(lenght[i]**2)\n",
    "\n",
    "x = np.linspace(0.10, 0.40, 1000)"
   ]
  },
  {
   "cell_type": "code",
   "execution_count": 88,
   "id": "6b2b4c46",
   "metadata": {},
   "outputs": [
    {
     "data": {
      "text/plain": [
       "6542.646460500004"
      ]
     },
     "execution_count": 88,
     "metadata": {},
     "output_type": "execute_result"
    }
   ],
   "source": [
    "delta_ = sumw*sumxx - (sumx**2)\n",
    "delta_"
   ]
  },
  {
   "cell_type": "code",
   "execution_count": 89,
   "id": "5062b3af",
   "metadata": {},
   "outputs": [
    {
     "data": {
      "text/plain": [
       "0.01822965014235128"
      ]
     },
     "execution_count": 89,
     "metadata": {},
     "output_type": "execute_result"
    }
   ],
   "source": [
    "c = (sumxx*sumy - sumx*sumxy)/delta_\n",
    "c"
   ]
  },
  {
   "cell_type": "code",
   "execution_count": 90,
   "id": "70ba768a",
   "metadata": {},
   "outputs": [
    {
     "data": {
      "text/plain": [
       "4.001063229603184"
      ]
     },
     "execution_count": 90,
     "metadata": {},
     "output_type": "execute_result"
    }
   ],
   "source": [
    "m = (sumw*sumxy - sumx*sumy)/delta_\n",
    "m"
   ]
  },
  {
   "cell_type": "code",
   "execution_count": 91,
   "id": "e4b58067",
   "metadata": {},
   "outputs": [
    {
     "data": {
      "text/plain": [
       "0.0809764535811634"
      ]
     },
     "execution_count": 91,
     "metadata": {},
     "output_type": "execute_result"
    }
   ],
   "source": [
    "ac = np.sqrt(sumxx/delta_)\n",
    "ac"
   ]
  },
  {
   "cell_type": "code",
   "execution_count": 92,
   "id": "aa1719d7",
   "metadata": {},
   "outputs": [
    {
     "data": {
      "text/plain": [
       "0.35670794787048177"
      ]
     },
     "execution_count": 92,
     "metadata": {},
     "output_type": "execute_result"
    }
   ],
   "source": [
    "am = np.sqrt(sumw/delta_)\n",
    "am"
   ]
  },
  {
   "cell_type": "code",
   "execution_count": 111,
   "id": "1e507848",
   "metadata": {},
   "outputs": [
    {
     "name": "stderr",
     "output_type": "stream",
     "text": [
      "C:\\Users\\Thomas\\AppData\\Local\\Temp\\ipykernel_8880\\2146376365.py:2: UserWarning: color is redundantly defined by the 'color' keyword argument and the fmt string \"--ro\" (-> color='r'). The keyword argument will take precedence.\n",
      "  plt.errorbar(lenght, period2, xerr = [0.01, 0.01, 0.01, 0.01, 0.01, 0.01, 0.01], yerr = y_error, color = \"red\", fmt = \"--ro\",ecolor = \"green\", elinewidth = 1)\n"
     ]
    },
    {
     "data": {
      "text/plain": [
       "[<matplotlib.lines.Line2D at 0x1be94149d90>]"
      ]
     },
     "execution_count": 111,
     "metadata": {},
     "output_type": "execute_result"
    },
    {
     "data": {
      "image/png": "[encoded data removed]",
      "text/plain": [
       "<Figure size 640x480 with 1 Axes>"
      ]
     },
     "metadata": {},
     "output_type": "display_data"
    }
   ],
   "source": [
    "plt.scatter(lenght, period2, color = \"red\")\n",
    "plt.errorbar(lenght, period2, xerr = [0.01, 0.01, 0.01, 0.01, 0.01, 0.01, 0.01], yerr = y_error, color = \"red\", fmt = \"--ro\",ecolor = \"green\", elinewidth = 1)\n",
    "y = 4.0*x + 0.02\n",
    "plt.plot(x, y, color = \"blue\")"
   ]
  },
  {
   "cell_type": "code",
   "execution_count": 117,
   "id": "0bd326f8",
   "metadata": {},
   "outputs": [
    {
     "data": {
      "text/plain": [
       "9.9"
      ]
     },
     "execution_count": 117,
     "metadata": {},
     "output_type": "execute_result"
    }
   ],
   "source": [
    "g = 4 * (np.pi**2)/4.0\n",
    "round(g, 1)"
   ]
  },
  {
   "cell_type": "code",
   "execution_count": 120,
   "id": "97b74692",
   "metadata": {},
   "outputs": [
    {
     "data": {
      "text/plain": [
       "0.7"
      ]
     },
     "execution_count": 120,
     "metadata": {},
     "output_type": "execute_result"
    }
   ],
   "source": [
    "deltag = 4 * (np.pi**2) * (0.3)/(4.0**2)\n",
    "round(deltag, 1)"
   ]
  },
  {
   "cell_type": "code",
   "execution_count": null,
   "id": "7fd82045",
   "metadata": {},
   "outputs": [],
   "source": []
  }
 ],
 "metadata": {
  "kernelspec": {
   "display_name": "Python 3 (ipykernel)",
   "language": "python",
   "name": "python3"
  },
  "language_info": {
   "codemirror_mode": {
    "name": "ipython",
    "version": 3
   },
   "file_extension": ".py",
   "mimetype": "text/x-python",
   "name": "python",
   "nbconvert_exporter": "python",
   "pygments_lexer": "ipython3",
   "version": "3.11.5"
  }
 },
 "nbformat": 4,
 "nbformat_minor": 5
}
