{
 "cells": [
  {
   "cell_type": "code",
   "execution_count": 1,
   "id": "d34ef5f3-a889-4b8c-a079-da7efb58614e",
   "metadata": {},
   "outputs": [],
   "source": [
    "#Librerias\n",
    "import pandas as pd\n",
    "import numpy as np\n",
    "import matplotlib.pyplot as plt\n",
    "import sympy as sym"
   ]
  },
  {
   "cell_type": "code",
   "execution_count": null,
   "id": "809b9c19-bc11-4292-aeab-10d38f368d8b",
   "metadata": {},
   "outputs": [],
   "source": [
    "#Obtención de los datos\n",
    "def Data(l:str):\n",
    "    direccion = l\n",
    "    data = pd.read_csv(direccion, delimiter='\\t')\n",
    "    return data"
   ]
  },
  {
   "cell_type": "code",
   "execution_count": null,
   "id": "edcb5b9c-c1ca-48d0-a2d5-2e9f4f862687",
   "metadata": {},
   "outputs": [],
   "source": [
    "#Obtener medidas de incertidumbre\n",
    "\n",
    "#El r^2 de excel\n",
    "def GetR2(x,y):\n",
    "    matrix = np.corrcoef(x,y)\n",
    "    R2 = (matrix[0,1])**2\n",
    "    return R2\n",
    "\n",
    "#Residuales \n",
    "#y es el de los datos\n",
    "#ym es la de la regresion\n",
    "def Residuals(y,ym):\n",
    "    e = []\n",
    "    for i in range(0,len(y)):\n",
    "        e.append(y[i]-ym[i])\n",
    "    return e\n",
    "\n",
    "# #Regresión lineal\n",
    "# param3a = np.polyfit(B3, Omega, 1)\n",
    "# _x3a = np.linspace(min(B3),max(B3),len(B3))\n",
    "# ym3a = param3a[0]*_x3a + param3a[1]\n",
    "# m = param3a[0]"
   ]
  },
  {
   "cell_type": "code",
   "execution_count": null,
   "id": "da2ac77f-0b67-4960-a1b4-7d55693af27d",
   "metadata": {},
   "outputs": [],
   "source": [
    "# #Gráfico con residuos\n",
    "# fig, axis = plt.subplots(2,1, figsize = (10, 6), gridspec_kw = {\"height_ratios\":[2, 1]})\n",
    "# ax1 = axis[0]\n",
    "# ax2 = axis[1]\n",
    "\n",
    "# fig.suptitle(r'Obtención del coeficiente $\\mu$ a partir de la precesión')\n",
    "\n",
    "# ax1.errorbar(B3,Omega,color='r',fmt='.',capsize=0.5,yerr=np.sqrt(var3a*0.1))\n",
    "# ax1.plot(_x3a,ym3a,'--',color='g', label=r'Ajuste lineal')\n",
    "# ax1.set_xlabel(r\"Campo magnético T\")\n",
    "# ax1.set_ylabel(r'$\\Omega$ (1/s)')\n",
    "# ax1.text(0.0020, 1.6, 'y={}x + {}'.format(round(param3a[0],2),round(param3a[1],2)),color='g')\n",
    "# ax1.text(0.0020, 1.4, 'R^2 = {}'.format(round(R23a,2)),color='g')\n",
    "# ax1.grid()\n",
    "# ax1.legend()\n",
    "\n",
    "# xres3a = np.linspace(0,1.8,20)\n",
    "# ax2.scatter(Omega,Res3a,label = 'Residuos')\n",
    "# ax2.plot(xres3a,np.zeros_like(xres3a),'--',color='r')\n",
    "# ax2.grid()\n",
    "# ax2.legend()\n",
    "\n",
    "# fig.tight_layout()\n",
    "# # plt.savefig('Actividad 1.pdf')"
   ]
  }
 ],
 "metadata": {
  "kernelspec": {
   "display_name": "Python 3 (ipykernel)",
   "language": "python",
   "name": "python3"
  },
  "language_info": {
   "codemirror_mode": {
    "name": "ipython",
    "version": 3
   },
   "file_extension": ".py",
   "mimetype": "text/x-python",
   "name": "python",
   "nbconvert_exporter": "python",
   "pygments_lexer": "ipython3",
   "version": "3.11.7"
  }
 },
 "nbformat": 4,
 "nbformat_minor": 5
}
